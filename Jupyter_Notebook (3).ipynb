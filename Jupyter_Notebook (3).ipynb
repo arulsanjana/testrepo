{
 "cells": [
  {
   "cell_type": "markdown",
   "metadata": {},
   "source": [
    "<center>\n",
    "    <img src=\"https://s3-api.us-geo.objectstorage.softlayer.net/cf-courses-data/CognitiveClass/Logos/organization_logo/organization_logo.png\" width=\"300\" alt=\"cognitiveclass.ai logo\"  />\n",
    "</center>\n"
   ]
  },
  {
   "cell_type": "markdown",
   "metadata": {},
   "source": [
    "# My Jupyter Notebook on IBM Watson Studio"
   ]
  },
  {
   "cell_type": "markdown",
   "metadata": {},
   "source": [
    "#### SANJANA ARUL\n",
    "If given a choice, my desired job title would be that of lead Data Scientist."
   ]
  },
  {
   "cell_type": "markdown",
   "metadata": {},
   "source": [
    "𝘐 𝘢𝘮 𝘪𝘯𝘵𝘦𝘳𝘦𝘴𝘵𝘦𝘥 𝘪𝘯 𝘋𝘢𝘵𝘢 𝘚𝘤𝘪𝘦𝘯𝘤𝘦 𝘣𝘦𝘤𝘢𝘶𝘴𝘦 𝘋𝘢𝘵𝘢 𝘴𝘤𝘪𝘦𝘯𝘤𝘦 𝘪𝘴 𝘢 𝘧𝘢𝘴𝘤𝘪𝘯𝘢𝘵𝘪𝘯𝘨 𝘧𝘪𝘦𝘭𝘥 𝘵𝘩𝘢𝘵 𝘣𝘦𝘯𝘦𝘧𝘪𝘵𝘴 𝘧𝘳𝘰𝘮 𝘢𝘯 𝘦𝘯𝘥𝘭𝘦𝘴𝘴 𝘷𝘢𝘳𝘪𝘦𝘵𝘺 𝘰𝘧 𝘢𝘱𝘱𝘭𝘪𝘤𝘢𝘵𝘪𝘰𝘯𝘴. 𝘖𝘯𝘦 𝘰𝘧 𝘵𝘩𝘦 𝘮𝘰𝘴𝘵 𝘪𝘮𝘱𝘰𝘳𝘵𝘢𝘯𝘵 𝘳𝘰𝘭𝘦𝘴 𝘪𝘯 𝘥𝘢𝘵𝘢 𝘴𝘤𝘪𝘦𝘯𝘤𝘦 𝘪𝘴 𝘵𝘰 𝘮𝘢𝘬𝘦 𝘴𝘦𝘯𝘴𝘦 𝘰𝘧 𝘵𝘩𝘪𝘴 𝘷𝘰𝘭𝘶𝘮𝘦 𝘰𝘧 𝘥𝘢𝘵𝘢 𝘵𝘰 𝘧𝘪𝘯𝘥 𝘱𝘢𝘵𝘵𝘦𝘳𝘯𝘴 𝘪𝘯 𝘴𝘵𝘢𝘵𝘪𝘴𝘵𝘪𝘤𝘴 𝘵𝘩𝘢𝘵 𝘤𝘢𝘯 𝘵𝘦𝘭𝘭 𝘶𝘴 𝘴𝘰𝘮𝘦𝘵𝘩𝘪𝘯𝘨 𝘪𝘮𝘱𝘰𝘳𝘵𝘢𝘯𝘵 𝘢𝘣𝘰𝘶𝘵 𝘰𝘶𝘳 𝘸𝘰𝘳𝘭𝘥."
   ]
  },
  {
   "cell_type": "markdown",
   "metadata": {},
   "source": [
    "### The following code tests the simple multiplication"
   ]
  },
  {
   "cell_type": "code",
   "execution_count": 4,
   "metadata": {},
   "outputs": [
    {
     "data": {
      "text/plain": [
       "125"
      ]
     },
     "execution_count": 4,
     "metadata": {},
     "output_type": "execute_result"
    }
   ],
   "source": [
    "5*25"
   ]
  },
  {
   "cell_type": "markdown",
   "metadata": {},
   "source": []
  }
 ],
 "metadata": {
  "kernelspec": {
   "display_name": "Python",
   "language": "python",
   "name": "conda-env-python-py"
  },
  "language_info": {
   "codemirror_mode": {
    "name": "ipython",
    "version": 3
   },
   "file_extension": ".py",
   "mimetype": "text/x-python",
   "name": "python",
   "nbconvert_exporter": "python",
   "pygments_lexer": "ipython3",
   "version": "3.7.12"
  }
 },
 "nbformat": 4,
 "nbformat_minor": 4
}
